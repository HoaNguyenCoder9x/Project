{
 "cells": [
  {
   "cell_type": "markdown",
   "metadata": {},
   "source": [
    "Read data from file"
   ]
  },
  {
   "cell_type": "code",
   "execution_count": 1,
   "metadata": {},
   "outputs": [],
   "source": [
    "import pandas as pd\n",
    "\n",
    "# Read the file line by line\n",
    "file_path = r'C:\\Users\\PC1\\Desktop\\200k_comments.csv'\n",
    "\n",
    "# Detect file format chứa symbol special , k thể dùng pandas để read_csv một cách bình thường, sẽ xảy ra trường hợp skip row \n",
    "# -> apply approach read line by line from file \n",
    "\n",
    "data = []\n",
    "with open(file_path, 'r', encoding='utf-8') as file:\n",
    "    for line in file:\n",
    "        data.append(line.strip().split('\\n'))"
   ]
  },
  {
   "cell_type": "code",
   "execution_count": 2,
   "metadata": {},
   "outputs": [
    {
     "name": "stdout",
     "output_type": "stream",
     "text": [
      "Number of rows count in file: 236100/236100\n"
     ]
    }
   ],
   "source": [
    "# check all record are read\n",
    "print(f'Number of rows count in file: {len(data)}/236100')"
   ]
  },
  {
   "cell_type": "code",
   "execution_count": 3,
   "metadata": {},
   "outputs": [
    {
     "data": {
      "text/html": [
       "<div>\n",
       "<style scoped>\n",
       "    .dataframe tbody tr th:only-of-type {\n",
       "        vertical-align: middle;\n",
       "    }\n",
       "\n",
       "    .dataframe tbody tr th {\n",
       "        vertical-align: top;\n",
       "    }\n",
       "\n",
       "    .dataframe thead th {\n",
       "        text-align: right;\n",
       "    }\n",
       "</style>\n",
       "<table border=\"1\" class=\"dataframe\">\n",
       "  <thead>\n",
       "    <tr style=\"text-align: right;\">\n",
       "      <th></th>\n",
       "      <th>comments</th>\n",
       "    </tr>\n",
       "  </thead>\n",
       "  <tbody>\n",
       "    <tr>\n",
       "      <th>0</th>\n",
       "      <td>Xong rồi mong 2 vc mời kiểm toán vào để “cộng ...</td>\n",
       "    </tr>\n",
       "    <tr>\n",
       "      <th>1</th>\n",
       "      <td>Thương chị !!!!! Em tin chị !!!! Cảm ơn chị !!...</td>\n",
       "    </tr>\n",
       "    <tr>\n",
       "      <th>2</th>\n",
       "      <td>Chuẩn rồi a tin em</td>\n",
       "    </tr>\n",
       "    <tr>\n",
       "      <th>3</th>\n",
       "      <td>End of season sale giảm 70% anh em ơi</td>\n",
       "    </tr>\n",
       "    <tr>\n",
       "      <th>4</th>\n",
       "      <td>Kiện bằng mọi giá. Cho những kẻ vu khống bôi n...</td>\n",
       "    </tr>\n",
       "  </tbody>\n",
       "</table>\n",
       "</div>"
      ],
      "text/plain": [
       "                                            comments\n",
       "0  Xong rồi mong 2 vc mời kiểm toán vào để “cộng ...\n",
       "1  Thương chị !!!!! Em tin chị !!!! Cảm ơn chị !!...\n",
       "2                                 Chuẩn rồi a tin em\n",
       "3              End of season sale giảm 70% anh em ơi\n",
       "4  Kiện bằng mọi giá. Cho những kẻ vu khống bôi n..."
      ]
     },
     "execution_count": 3,
     "metadata": {},
     "output_type": "execute_result"
    }
   ],
   "source": [
    "# convert list to DataFrame and rename cols\n",
    "df = pd.DataFrame(data)\n",
    "df.columns = ['comments']\n",
    "df.head()"
   ]
  },
  {
   "cell_type": "code",
   "execution_count": 4,
   "metadata": {},
   "outputs": [],
   "source": [
    "# xử lý text\n",
    "# function to handle error when \n",
    "# 1. convert text\n",
    "# 2. lower() text\n",
    "\n",
    "def convert_unidecode(text):\n",
    "    from unidecode import unidecode\n",
    "    error_list = []\n",
    "    try:\n",
    "        return unidecode(text).lower()\n",
    "    except Exception as e:\n",
    "        error_list.append(text)"
   ]
  },
  {
   "cell_type": "code",
   "execution_count": 5,
   "metadata": {},
   "outputs": [],
   "source": [
    "# add new column to convert Unicode text -> ascii text\n",
    "df['ascii_comments'] = df['comments'].apply(convert_unidecode)"
   ]
  },
  {
   "cell_type": "code",
   "execution_count": 6,
   "metadata": {},
   "outputs": [
    {
     "data": {
      "text/plain": [
       "['kw_vc',\n",
       " 'kw_thuy_tien',\n",
       " 'kw_cong_vinh',\n",
       " 'kw_bao_lu',\n",
       " 'kw_cong_vien_thuy_tinh',\n",
       " 'kw_mien_trung',\n",
       " 'kw_tu_thien',\n",
       " 'kw_vo_chong']"
      ]
     },
     "execution_count": 6,
     "metadata": {},
     "output_type": "execute_result"
    }
   ],
   "source": [
    "list_key_words = ['vc','thuy tien','cong vinh', 'bao lu','cong vien thuy tinh','mien trung','tu thien','vo chong']\n",
    "kw_cols = []\n",
    "for i in list_key_words:\n",
    "    i = i.replace(' ','_')\n",
    "    kw_cols.append('kw_' + i)\n",
    "\n",
    "kw_cols\n"
   ]
  },
  {
   "cell_type": "code",
   "execution_count": 7,
   "metadata": {},
   "outputs": [
    {
     "name": "stdout",
     "output_type": "stream",
     "text": [
      "Xử lý kw_vc\n",
      "Xử lý kw_thuy_tien\n",
      "Xử lý kw_cong_vinh\n",
      "Xử lý kw_bao_lu\n",
      "Xử lý kw_cong_vien_thuy_tinh\n",
      "Xử lý kw_mien_trung\n",
      "Xử lý kw_tu_thien\n",
      "Xử lý kw_vo_chong\n"
     ]
    }
   ],
   "source": [
    "import numpy as np\n",
    "\n",
    "for i in range(len(list_key_words)):\n",
    "    print(f'Xử lý {kw_cols[i]}')\n",
    "    # break\n",
    "    # xử lý column keyword\n",
    "    df[kw_cols[i]] = np.where(df['ascii_comments'].str.contains(list_key_words[i], na = False) , kw_cols[i], '')\n",
    "    \n",
    "    "
   ]
  },
  {
   "cell_type": "code",
   "execution_count": 8,
   "metadata": {},
   "outputs": [
    {
     "name": "stdout",
     "output_type": "stream",
     "text": [
      "Columns kw_vc have value \"kw_vc\" : portition 0.7992376111817027, with 1887 LINES IN 236100\n",
      "Columns kw_thuy_tien have value \"kw_thuy_tien\" : portition 5.0156713257094445, with 11842 LINES IN 236100\n",
      "Columns kw_cong_vinh have value \"kw_cong_vinh\" : portition 0.7501058873358746, with 1771 LINES IN 236100\n",
      "Columns kw_bao_lu have value \"kw_bao_lu\" : portition 0.11859381617958492, with 280 LINES IN 236100\n",
      "Columns kw_cong_vien_thuy_tinh have value \"kw_cong_vien_thuy_tinh\" : portition 0.002964845404489623, with 7 LINES IN 236100\n",
      "Columns kw_mien_trung have value \"kw_mien_trung\" : portition 0.6721728081321474, with 1587 LINES IN 236100\n",
      "Columns kw_tu_thien have value \"kw_tu_thien\" : portition 0.962304108428632, with 2272 LINES IN 236100\n",
      "Columns kw_vo_chong have value \"kw_vo_chong\" : portition 1.2744599745870393, with 3009 LINES IN 236100\n"
     ]
    }
   ],
   "source": [
    "#check portition keywords:\n",
    "\n",
    "for i in range(len(list_key_words)):\n",
    "    cols_name = kw_cols[i]\n",
    "    total_line = len(df)\n",
    "    kw_line = len(df[df[kw_cols[i]]== kw_cols[i]])\n",
    "    print(f'Columns {cols_name} have value \"{cols_name}\" : portition {( kw_line / total_line * 100)}, with {kw_line} LINES IN {total_line}')"
   ]
  },
  {
   "cell_type": "code",
   "execution_count": 9,
   "metadata": {},
   "outputs": [
    {
     "data": {
      "text/html": [
       "<div>\n",
       "<style scoped>\n",
       "    .dataframe tbody tr th:only-of-type {\n",
       "        vertical-align: middle;\n",
       "    }\n",
       "\n",
       "    .dataframe tbody tr th {\n",
       "        vertical-align: top;\n",
       "    }\n",
       "\n",
       "    .dataframe thead th {\n",
       "        text-align: right;\n",
       "    }\n",
       "</style>\n",
       "<table border=\"1\" class=\"dataframe\">\n",
       "  <thead>\n",
       "    <tr style=\"text-align: right;\">\n",
       "      <th></th>\n",
       "      <th>comments</th>\n",
       "      <th>ascii_comments</th>\n",
       "      <th>kw_vc</th>\n",
       "      <th>kw_thuy_tien</th>\n",
       "      <th>kw_cong_vinh</th>\n",
       "      <th>kw_bao_lu</th>\n",
       "      <th>kw_cong_vien_thuy_tinh</th>\n",
       "      <th>kw_mien_trung</th>\n",
       "      <th>kw_tu_thien</th>\n",
       "      <th>kw_vo_chong</th>\n",
       "    </tr>\n",
       "  </thead>\n",
       "  <tbody>\n",
       "    <tr>\n",
       "      <th>0</th>\n",
       "      <td>Xong rồi mong 2 vc mời kiểm toán vào để “cộng ...</td>\n",
       "      <td>xong roi mong 2 vc moi kiem toan vao de \"cong ...</td>\n",
       "      <td>kw_vc</td>\n",
       "      <td></td>\n",
       "      <td></td>\n",
       "      <td></td>\n",
       "      <td></td>\n",
       "      <td></td>\n",
       "      <td></td>\n",
       "      <td></td>\n",
       "    </tr>\n",
       "    <tr>\n",
       "      <th>1</th>\n",
       "      <td>Thương chị !!!!! Em tin chị !!!! Cảm ơn chị !!...</td>\n",
       "      <td>thuong chi !!!!! em tin chi !!!! cam on chi !!...</td>\n",
       "      <td></td>\n",
       "      <td></td>\n",
       "      <td></td>\n",
       "      <td></td>\n",
       "      <td></td>\n",
       "      <td></td>\n",
       "      <td></td>\n",
       "      <td>kw_vo_chong</td>\n",
       "    </tr>\n",
       "    <tr>\n",
       "      <th>2</th>\n",
       "      <td>Chuẩn rồi a tin em</td>\n",
       "      <td>chuan roi a tin em</td>\n",
       "      <td></td>\n",
       "      <td></td>\n",
       "      <td></td>\n",
       "      <td></td>\n",
       "      <td></td>\n",
       "      <td></td>\n",
       "      <td></td>\n",
       "      <td></td>\n",
       "    </tr>\n",
       "  </tbody>\n",
       "</table>\n",
       "</div>"
      ],
      "text/plain": [
       "                                            comments  \\\n",
       "0  Xong rồi mong 2 vc mời kiểm toán vào để “cộng ...   \n",
       "1  Thương chị !!!!! Em tin chị !!!! Cảm ơn chị !!...   \n",
       "2                                 Chuẩn rồi a tin em   \n",
       "\n",
       "                                      ascii_comments  kw_vc kw_thuy_tien  \\\n",
       "0  xong roi mong 2 vc moi kiem toan vao de \"cong ...  kw_vc                \n",
       "1  thuong chi !!!!! em tin chi !!!! cam on chi !!...                       \n",
       "2                                 chuan roi a tin em                       \n",
       "\n",
       "  kw_cong_vinh kw_bao_lu kw_cong_vien_thuy_tinh kw_mien_trung kw_tu_thien  \\\n",
       "0                                                                           \n",
       "1                                                                           \n",
       "2                                                                           \n",
       "\n",
       "   kw_vo_chong  \n",
       "0               \n",
       "1  kw_vo_chong  \n",
       "2               "
      ]
     },
     "execution_count": 9,
     "metadata": {},
     "output_type": "execute_result"
    }
   ],
   "source": [
    "df.head(3)"
   ]
  },
  {
   "cell_type": "code",
   "execution_count": 11,
   "metadata": {},
   "outputs": [
    {
     "data": {
      "text/html": [
       "<div>\n",
       "<style scoped>\n",
       "    .dataframe tbody tr th:only-of-type {\n",
       "        vertical-align: middle;\n",
       "    }\n",
       "\n",
       "    .dataframe tbody tr th {\n",
       "        vertical-align: top;\n",
       "    }\n",
       "\n",
       "    .dataframe thead th {\n",
       "        text-align: right;\n",
       "    }\n",
       "</style>\n",
       "<table border=\"1\" class=\"dataframe\">\n",
       "  <thead>\n",
       "    <tr style=\"text-align: right;\">\n",
       "      <th></th>\n",
       "      <th>comments</th>\n",
       "      <th>ascii_comments</th>\n",
       "      <th>kw_vc</th>\n",
       "      <th>kw_thuy_tien</th>\n",
       "      <th>kw_cong_vinh</th>\n",
       "      <th>kw_bao_lu</th>\n",
       "      <th>kw_cong_vien_thuy_tinh</th>\n",
       "      <th>kw_mien_trung</th>\n",
       "      <th>kw_tu_thien</th>\n",
       "      <th>kw_vo_chong</th>\n",
       "      <th>combined_row</th>\n",
       "    </tr>\n",
       "  </thead>\n",
       "  <tbody>\n",
       "    <tr>\n",
       "      <th>0</th>\n",
       "      <td>Xong rồi mong 2 vc mời kiểm toán vào để “cộng ...</td>\n",
       "      <td>xong roi mong 2 vc moi kiem toan vao de \"cong ...</td>\n",
       "      <td>kw_vc</td>\n",
       "      <td></td>\n",
       "      <td></td>\n",
       "      <td></td>\n",
       "      <td></td>\n",
       "      <td></td>\n",
       "      <td></td>\n",
       "      <td></td>\n",
       "      <td>kw_vc</td>\n",
       "    </tr>\n",
       "    <tr>\n",
       "      <th>1</th>\n",
       "      <td>Thương chị !!!!! Em tin chị !!!! Cảm ơn chị !!...</td>\n",
       "      <td>thuong chi !!!!! em tin chi !!!! cam on chi !!...</td>\n",
       "      <td></td>\n",
       "      <td></td>\n",
       "      <td></td>\n",
       "      <td></td>\n",
       "      <td></td>\n",
       "      <td></td>\n",
       "      <td></td>\n",
       "      <td>kw_vo_chong</td>\n",
       "      <td>kw_vo_chong</td>\n",
       "    </tr>\n",
       "  </tbody>\n",
       "</table>\n",
       "</div>"
      ],
      "text/plain": [
       "                                            comments  \\\n",
       "0  Xong rồi mong 2 vc mời kiểm toán vào để “cộng ...   \n",
       "1  Thương chị !!!!! Em tin chị !!!! Cảm ơn chị !!...   \n",
       "\n",
       "                                      ascii_comments  kw_vc kw_thuy_tien  \\\n",
       "0  xong roi mong 2 vc moi kiem toan vao de \"cong ...  kw_vc                \n",
       "1  thuong chi !!!!! em tin chi !!!! cam on chi !!...                       \n",
       "\n",
       "  kw_cong_vinh kw_bao_lu kw_cong_vien_thuy_tinh kw_mien_trung kw_tu_thien  \\\n",
       "0                                                                           \n",
       "1                                                                           \n",
       "\n",
       "   kw_vo_chong combined_row  \n",
       "0                     kw_vc  \n",
       "1  kw_vo_chong  kw_vo_chong  "
      ]
     },
     "execution_count": 11,
     "metadata": {},
     "output_type": "execute_result"
    }
   ],
   "source": [
    "# combined rows\n",
    "df['combined_row'] = df[kw_cols].apply(lambda row: ' '.join(row.values.astype(str)), axis=1)\n",
    "df['combined_row'] = df['combined_row'].str.strip()\n",
    "df['combined_row'] = df['combined_row'].str.replace(' ','0')\n",
    "df.head(2)"
   ]
  },
  {
   "cell_type": "code",
   "execution_count": 12,
   "metadata": {},
   "outputs": [],
   "source": [
    "def modified_string(string):\n",
    "    import re\n",
    "    modified_string = re.sub(r'0+', ',', string)\n",
    "    return modified_string\n",
    "\n"
   ]
  },
  {
   "cell_type": "code",
   "execution_count": 13,
   "metadata": {},
   "outputs": [],
   "source": [
    "df['combined_row'] = df['combined_row'].apply(modified_string)"
   ]
  },
  {
   "cell_type": "code",
   "execution_count": 14,
   "metadata": {},
   "outputs": [
    {
     "data": {
      "text/plain": [
       "0"
      ]
     },
     "execution_count": 14,
     "metadata": {},
     "output_type": "execute_result"
    }
   ],
   "source": [
    "def count_str(text):\n",
    "    if 'kw' in text:\n",
    "        from collections import Counter\n",
    "        text = text.replace(',' , ' ')\n",
    "        text = text.replace('_' , ' ')\n",
    "        text_to_list = text.split()\n",
    "        text_to_dict = dict(Counter(text_to_list))\n",
    "\n",
    "        return int(text_to_dict['kw'])\n",
    "    else:\n",
    "        return 0\n",
    "# count_str('')"
   ]
  },
  {
   "cell_type": "code",
   "execution_count": 15,
   "metadata": {},
   "outputs": [],
   "source": [
    "#add relate_points columns to check if points of line \n",
    "df['relate_points'] = df['combined_row'].apply(count_str)"
   ]
  },
  {
   "cell_type": "code",
   "execution_count": 17,
   "metadata": {},
   "outputs": [
    {
     "data": {
      "text/plain": [
       "Index(['comments', 'ascii_comments', 'kw_vc', 'kw_thuy_tien', 'kw_cong_vinh',\n",
       "       'kw_bao_lu', 'kw_cong_vien_thuy_tinh', 'kw_mien_trung', 'kw_tu_thien',\n",
       "       'kw_vo_chong', 'combined_row', 'relate_points'],\n",
       "      dtype='object')"
      ]
     },
     "execution_count": 17,
     "metadata": {},
     "output_type": "execute_result"
    }
   ],
   "source": [
    "df.tail(1)\n",
    "df.columns"
   ]
  },
  {
   "cell_type": "code",
   "execution_count": 19,
   "metadata": {},
   "outputs": [],
   "source": [
    "df1 = df[['comments','ascii_comments','combined_row', 'relate_points']]\n",
    "df1.to_excel('output_to_db.xlsx')"
   ]
  },
  {
   "cell_type": "code",
   "execution_count": 20,
   "metadata": {},
   "outputs": [],
   "source": [
    "# output to file \n",
    "df.to_excel('output_raw.xlsx')"
   ]
  },
  {
   "cell_type": "code",
   "execution_count": null,
   "metadata": {},
   "outputs": [],
   "source": [
    "# write to postgre | mysql | mongodb"
   ]
  },
  {
   "cell_type": "code",
   "execution_count": null,
   "metadata": {},
   "outputs": [],
   "source": [
    "# unit testing\n",
    "# check random 1 keyword "
   ]
  }
 ],
 "metadata": {
  "kernelspec": {
   "display_name": "base",
   "language": "python",
   "name": "python3"
  },
  "language_info": {
   "codemirror_mode": {
    "name": "ipython",
    "version": 3
   },
   "file_extension": ".py",
   "mimetype": "text/x-python",
   "name": "python",
   "nbconvert_exporter": "python",
   "pygments_lexer": "ipython3",
   "version": "3.8.3"
  }
 },
 "nbformat": 4,
 "nbformat_minor": 2
}
